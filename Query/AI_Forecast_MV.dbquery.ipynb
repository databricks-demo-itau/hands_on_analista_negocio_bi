{
 "cells": [
  {
   "cell_type": "code",
   "execution_count": 0,
   "metadata": {
    "application/vnd.databricks.v1+cell": {
     "cellMetadata": {
      "byteLimit": 10485760,
      "rowLimit": 1000
     },
     "inputWidgets": {},
     "nuid": "fc1bf53e-9890-4652-8af8-64281cb67127",
     "showTitle": false,
     "tableResultSettingsMap": {},
     "title": ""
    }
   },
   "outputs": [],
   "source": [
    "\n",
    "-- Query para calcular o total de fechamento de cada ticker por ano e mês\n",
    "\n",
    "select p.ticker, year(p.date) as year, month(p.date) as month, sum(p.close) as total_close\n",
    "from prices p\n",
    "join portfolio pf on p.ticker = pf.ticker\n",
    "group by ALL;\n",
    "\n",
    "\n",
    "-- Esta consulta une as tabelas de preços e portfólio para obter o histórico de preços de fechamento\n",
    "-- especificamente para a ação da NVIDIA (NVDA). Ela retorna o símbolo do ticker, data e preço de fechamento\n",
    "-- para todos os registros da NVDA que existem em ambas as tabelas.\n",
    "select p.ticker, p.date, p.close as total_close\n",
    "from prices p\n",
    "join portfolio pf on p.ticker = pf.ticker\n",
    "where p.ticker = 'NVDA';\n",
    "\n",
    "\n",
    "-- Esta consulta cria uma tabela temporária (base_nvda) que armazena o histórico de preços de fechamento\n",
    "-- para a ação da NVIDIA (NVDA). A tabela temporária é então usada como entrada para a função AI_FORECAST,\n",
    "-- que realiza a previsão de preços futuros.\n",
    "\n",
    "WITH base_nvda (\n",
    "select p.ticker, p.date, p.close as total_close\n",
    "from prices p\n",
    "join portfolio pf on p.ticker = pf.ticker\n",
    "where p.ticker = 'NVDA'\n",
    ")\n",
    "\n",
    "SELECT * FROM AI_FORECAST(\n",
    "  TABLE(base_nvda),\n",
    "  horizon => current_date(),\n",
    "  time_col => 'date',\n",
    "  value_col => 'total_close'\n",
    ")\n",
    "\n",
    "\n",
    "-- Esta consulta cria tabela chamada AI_FORECAST_NVDA, que armazena o resultado\n",
    "-- da função AI_FORECAST para a ação da NVIDIA (NVDA).\n",
    "-- É agendada para atualizar a previsão diariamente.\n",
    "\n",
    "CREATE MATERIALIZED VIEW AI_FORECAST_NVDA\n",
    "SCHEDULE EVERY 1 DAY\n",
    "AS\n",
    "WITH base_nvda (\n",
    "select p.ticker, p.date, p.close as total_close\n",
    "from prices p\n",
    "join portfolio pf on p.ticker = pf.ticker\n",
    "where p.ticker = 'NVDA'\n",
    ")\n",
    "SELECT * FROM AI_FORECAST(\n",
    "  TABLE(base_nvda),\n",
    "  horizon => current_date(),\n",
    "  time_col => 'date',\n",
    "  value_col => 'total_close'\n",
    ")\n",
    "\n",
    "\n",
    "\n"
   ]
  }
 ],
 "metadata": {
  "application/vnd.databricks.v1+notebook": {
   "computePreferences": null,
   "dashboards": [],
   "environmentMetadata": null,
   "inputWidgetPreferences": null,
   "language": "sql",
   "notebookMetadata": {
    "sqlQueryOptions": {
     "applyAutoLimit": true,
     "catalog": "dev_hands_on",
     "schema": "malcoln_dandaro"
    }
   },
   "notebookName": "AI_Forecast_MV.dbquery.ipynb",
   "widgets": {}
  },
  "language_info": {
   "name": "sql"
  }
 },
 "nbformat": 4,
 "nbformat_minor": 0
}
