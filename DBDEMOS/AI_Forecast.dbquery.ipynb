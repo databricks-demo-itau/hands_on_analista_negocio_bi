{
 "cells": [
  {
   "cell_type": "code",
   "execution_count": 0,
   "metadata": {
    "application/vnd.databricks.v1+cell": {
     "cellMetadata": {
      "byteLimit": 10485760,
      "rowLimit": 1000
     },
     "inputWidgets": {},
     "nuid": "7e3096ed-1cfe-4bfb-b25e-fe5eb4bf3bd8",
     "showTitle": false,
     "tableResultSettingsMap": {},
     "title": ""
    }
   },
   "outputs": [
    {
     "output_type": "display_data",
     "data": {
      "text/plain": [
       "Databricks visualization. Run in Databricks to view."
      ]
     },
     "metadata": {
      "application/vnd.databricks.v1.subcommand+json": {
       "baseErrorDetails": null,
       "bindings": {},
       "collapsed": false,
       "command": "%sql WITH q AS (select p.ticker, year(p.date) as year, month(p.date) as month, sum(p.close) as total_close\nfrom malcoln_dandaro.prices p\njoin malcoln_dandaro.portfolio pf on p.ticker = pf.ticker\ngroup by p.ticker, year(p.date), month(p.date)) SELECT `date`,SUM(`total_close_forecast`) `column_619f4db7788`,SUM(`total_close_upper`) `column_619f4db7791`,SUM(`total_close_lower`) `column_619f4db7794` FROM q GROUP BY `date`",
       "commandTitle": "Visualization 1",
       "commandType": "auto",
       "commandVersion": 0,
       "commentThread": [],
       "commentsVisible": false,
       "contentSha256Hex": null,
       "customPlotOptions": {
        "redashChart": [
         {
          "key": "type",
          "value": "CHART"
         },
         {
          "key": "options",
          "value": {
           "alignYAxesAtZero": true,
           "coefficient": 1,
           "columnConfigurationMap": {
            "x": {
             "column": "date",
             "id": "column_619f4db7785"
            },
            "y": [
             {
              "column": "total_close_forecast",
              "id": "column_619f4db7788",
              "transform": "SUM"
             },
             {
              "column": "total_close_upper",
              "id": "column_619f4db7791",
              "transform": "SUM"
             },
             {
              "column": "total_close_lower",
              "id": "column_619f4db7794",
              "transform": "SUM"
             }
            ]
           },
           "dateTimeFormat": "YYYY-MM-DD HH:mm",
           "direction": {
            "type": "counterclockwise"
           },
           "error_y": {
            "type": "data",
            "visible": true
           },
           "globalSeriesType": "line",
           "isAggregationOn": true,
           "legend": {
            "traceorder": "normal"
           },
           "missingValuesAsZero": true,
           "numberFormat": "0,0.[00000]",
           "percentFormat": "0[.]00%",
           "series": {
            "error_y": {
             "type": "data",
             "visible": true
            },
            "stacking": null
           },
           "seriesOptions": {
            "column_619f4db7788": {
             "type": "line",
             "yAxis": 0
            },
            "column_619f4db7791": {
             "type": "line",
             "yAxis": 0
            },
            "column_619f4db7794": {
             "type": "line",
             "yAxis": 0
            }
           },
           "showDataLabels": false,
           "sizemode": "diameter",
           "sortX": true,
           "sortY": true,
           "swappedAxes": false,
           "textFormat": "",
           "useAggregationsUi": true,
           "valuesOptions": {},
           "version": 2,
           "xAxis": {
            "labels": {
             "enabled": true
            },
            "type": "-"
           },
           "yAxis": [
            {
             "type": "-"
            },
            {
             "opposite": true,
             "type": "-"
            }
           ]
          }
         }
        ]
       },
       "datasetPreviewNameToCmdIdMap": {},
       "diffDeletes": [],
       "diffInserts": [],
       "displayType": "redashChart",
       "error": null,
       "errorDetails": null,
       "errorSummary": null,
       "errorTraceType": null,
       "finishTime": 0,
       "globalVars": {},
       "guid": "",
       "height": "auto",
       "hideCommandCode": false,
       "hideCommandResult": false,
       "iPythonMetadata": null,
       "inputWidgets": {},
       "isLockedInExamMode": false,
       "latestUser": "a user",
       "latestUserId": null,
       "listResultMetadata": null,
       "metadata": {},
       "nuid": "b7df8084-b2a9-455e-93e5-2650c1f31bdd",
       "origId": 0,
       "parentHierarchy": [],
       "pivotAggregation": null,
       "pivotColumns": null,
       "position": 2.0,
       "resultDbfsErrorMessage": null,
       "resultDbfsStatus": "INLINED_IN_TREE",
       "results": null,
       "showCommandTitle": false,
       "startTime": 0,
       "state": "input",
       "streamStates": {},
       "subcommandOptions": {
        "queryPlan": {
         "groups": [
          {
           "column": "date",
           "type": "column"
          }
         ],
         "selects": [
          {
           "column": "date",
           "type": "column"
          },
          {
           "alias": "column_619f4db7788",
           "args": [
            {
             "column": "total_close_forecast",
             "type": "column"
            }
           ],
           "function": "SUM",
           "type": "function"
          },
          {
           "alias": "column_619f4db7791",
           "args": [
            {
             "column": "total_close_upper",
             "type": "column"
            }
           ],
           "function": "SUM",
           "type": "function"
          },
          {
           "alias": "column_619f4db7794",
           "args": [
            {
             "column": "total_close_lower",
             "type": "column"
            }
           ],
           "function": "SUM",
           "type": "function"
          }
         ]
        },
        "redashId": "a153aa7b-775d-4438-ba1d-9409e1b1d9e5",
        "redashLastUpdated": 1743702409000
       },
       "submitTime": 0,
       "subtype": "tableResultSubCmd.visualization",
       "tableResultIndex": 0,
       "tableResultSettingsMap": {},
       "useConsistentColors": false,
       "version": "CommandV1",
       "width": "auto",
       "workflows": null,
       "xColumns": null,
       "yColumns": null
      }
     },
     "output_type": "display_data"
    }
   ],
   "source": [
    " -- Query para calcular o total de fechamento de cada ticker por ano e mês\n",
    "\n",
    "select p.ticker, year(p.date) as year, month(p.date) as month, sum(p.close) as total_close\n",
    "from malcoln_dandaro.prices p\n",
    "join malcoln_dandaro.portfolio pf on p.ticker = pf.ticker\n",
    "group by ALL;\n",
    "\n",
    "\n",
    "-- Esta consulta une as tabelas de preços e portfólio para obter o histórico de preços de fechamento\n",
    "-- especificamente para a ação da NVIDIA (NVDA). Ela retorna o símbolo do ticker, data e preço de fechamento\n",
    "-- para todos os registros da NVDA que existem em ambas as tabelas.\n",
    "select p.ticker, p.date, p.close as total_close\n",
    "from malcoln_dandaro.prices p\n",
    "join malcoln_dandaro.portfolio pf on p.ticker = pf.ticker\n",
    "where p.ticker = 'NVDA';\n",
    "\n",
    "\n",
    "-- Esta consulta cria uma tabela temporária (base_nvda) que armazena o histórico de preços de fechamento\n",
    "-- para a ação da NVIDIA (NVDA). A tabela temporária é então usada como entrada para a função AI_FORECAST,\n",
    "-- que realiza a previsão de preços futuros.\n",
    "\n",
    "WITH base_nvda (\n",
    "select p.ticker, p.date, p.close as total_close\n",
    "from malcoln_dandaro.prices p\n",
    "join malcoln_dandaro.portfolio pf on p.ticker = pf.ticker\n",
    "where p.ticker = 'NVDA'\n",
    ")\n",
    "\n",
    "SELECT * FROM AI_FORECAST(\n",
    "  TABLE(base_nvda),\n",
    "  horizon => current_date(),\n",
    "  time_col => 'date',\n",
    "  value_col => 'total_close'\n",
    ")\n",
    "\n",
    "\n",
    "-- Esta consulta Uma tabela chamado AI_FORECAST_NVDA, que armazena o resultado\n",
    "-- da função AI_FORECAST para a ação da NVIDIA (NVDA).\n",
    "-- É agendada para atualizar a previsão diariamente.\n",
    "\n",
    "CREATE MATERIALIZED VIEW AI_FORECAST_NVDA\n",
    "SCHEDULE EVERY 1 DAY\n",
    "AS\n",
    "WITH base_nvda (\n",
    "select p.ticker, p.date, p.close as total_close\n",
    "from malcoln_dandaro.prices p\n",
    "join malcoln_dandaro.portfolio pf on p.ticker = pf.ticker\n",
    "where p.ticker = 'NVDA'\n",
    ")\n",
    "SELECT * FROM AI_FORECAST(\n",
    "  TABLE(base_nvda),\n",
    "  horizon => current_date(),\n",
    "  time_col => 'date',\n",
    "  value_col => 'total_close'\n",
    ")"
   ]
  }
 ],
 "metadata": {
  "application/vnd.databricks.v1+notebook": {
   "computePreferences": null,
   "dashboards": [],
   "environmentMetadata": null,
   "inputWidgetPreferences": null,
   "language": "sql",
   "notebookMetadata": {
    "pythonIndentUnit": 4,
    "sqlQueryOptions": {
     "applyAutoLimit": true,
     "catalog": "dev_hands_on",
     "schema": "malcoln_dandaro"
    }
   },
   "notebookName": "AI_Forecast.dbquery.ipynb",
   "widgets": {}
  },
  "language_info": {
   "name": "sql"
  }
 },
 "nbformat": 4,
 "nbformat_minor": 0
}
